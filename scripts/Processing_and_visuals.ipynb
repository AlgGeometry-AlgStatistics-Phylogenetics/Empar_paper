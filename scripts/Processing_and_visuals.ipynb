{
 "cells": [
  {
   "cell_type": "code",
   "execution_count": 2,
   "metadata": {
    "collapsed": false
   },
   "outputs": [],
   "source": [
    "from Bio import SeqIO\n",
    "\n",
    "with open(\"outfile.txt\",\"w\") as f:\n",
    "        for seq_record in SeqIO.parse(\"ex.fasta\", \"fasta\"):\n",
    "                f.write(str(seq_record.id) + \"\\n\")\n",
    "                f.write(str(seq_record.seq[:10]) + \"\\n\")  #first 10 base positions\n",
    "                f.write(str(seq_record.seq[-10:]) + \"\\n\") #last 10 base positions\n",
    "\n"
   ]
  },
  {
   "cell_type": "code",
   "execution_count": 4,
   "metadata": {
    "collapsed": false
   },
   "outputs": [],
   "source": [
    "from Bio.Seq import Seq\n",
    "from Bio.Alphabet import IUPAC\n",
    "my_seq = Seq(\"GATCGATGGGCCTATATAGGATCGAAAATCGC\", IUPAC.unambiguous_dna)"
   ]
  },
  {
   "cell_type": "code",
   "execution_count": 5,
   "metadata": {
    "collapsed": false
   },
   "outputs": [
    {
     "data": {
      "text/plain": [
       "Seq('TAGCTAAGAC', IUPACUnambiguousDNA())"
      ]
     },
     "execution_count": 5,
     "metadata": {},
     "output_type": "execute_result"
    }
   ],
   "source": [
    "my_seq[2::3]"
   ]
  },
  {
   "cell_type": "code",
   "execution_count": 19,
   "metadata": {
    "collapsed": false
   },
   "outputs": [
    {
     "name": "stdout",
     "output_type": "stream",
     "text": [
      ">seq1\n",
      "GC-CG\n",
      ">seq2\n",
      "GC-CG\n",
      ">seq3\n",
      "CC-CA\n"
     ]
    }
   ],
   "source": [
    "from Bio import SeqIO\n",
    "handle = open(\"ex.fasta\")\n",
    "\n",
    "with open(\"outfile.txt\",\"w\") as f:\n",
    "    for seq_record in SeqIO.parse(handle, \"fasta\") :\n",
    "        print \">\" + seq_record.id\n",
    "        temp = Seq(str(seq_record.seq), IUPAC.unambiguous_dna)\n",
    "        #temp = repr(seq_record.seq)\n",
    "        print temp[2::3]\n",
    "handle.close()"
   ]
  },
  {
   "cell_type": "markdown",
   "metadata": {
    "collapsed": true
   },
   "source": [
    "negative det"
   ]
  },
  {
   "cell_type": "code",
   "execution_count": 12,
   "metadata": {
    "collapsed": true
   },
   "outputs": [],
   "source": [
    "import numpy as np\n",
    "from numpy.linalg import det"
   ]
  },
  {
   "cell_type": "code",
   "execution_count": 8,
   "metadata": {
    "collapsed": false
   },
   "outputs": [],
   "source": [
    "M = np.array([[0.479432691872114, 0.392059806042706, 0.0452005027651593, 0.0833069993200213],\n",
    "[0.0285658985343881, 0.472147420543281, 0.499286677736459, 3.1858726379887e-09],\n",
    "[3.1858726379887e-09, 0.499286677736459, 0.472147420543281, 0.0285658985343881],\n",
    "[0.0833069993200213, 0.0452005027651593, 0.392059806042706, 0.479432691872114]])"
   ]
  },
  {
   "cell_type": "code",
   "execution_count": 13,
   "metadata": {
    "collapsed": false
   },
   "outputs": [
    {
     "data": {
      "text/plain": [
       "-0.011035444827197738"
      ]
     },
     "execution_count": 13,
     "metadata": {},
     "output_type": "execute_result"
    }
   ],
   "source": [
    "det(M)"
   ]
  },
  {
   "cell_type": "code",
   "execution_count": null,
   "metadata": {
    "collapsed": true
   },
   "outputs": [],
   "source": []
  }
 ],
 "metadata": {
  "kernelspec": {
   "display_name": "Python 2",
   "language": "python",
   "name": "python2"
  },
  "language_info": {
   "codemirror_mode": {
    "name": "ipython",
    "version": 2
   },
   "file_extension": ".py",
   "mimetype": "text/x-python",
   "name": "python",
   "nbconvert_exporter": "python",
   "pygments_lexer": "ipython2",
   "version": "2.7.12"
  }
 },
 "nbformat": 4,
 "nbformat_minor": 0
}
